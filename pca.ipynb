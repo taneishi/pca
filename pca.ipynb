{
 "cells": [
  {
   "cell_type": "code",
   "execution_count": 1,
   "metadata": {
    "lines_to_next_cell": 1
   },
   "outputs": [],
   "source": [
    "import pandas as pd\n",
    "import numpy as np\n",
    "import matplotlib.pyplot as plt\n",
    "import sklearn.decomposition\n",
    "import sklearn.datasets\n",
    "import os"
   ]
  },
  {
   "cell_type": "code",
   "execution_count": 2,
   "metadata": {
    "lines_to_next_cell": 1
   },
   "outputs": [],
   "source": [
    "def scale(df, center=True, scale=True):\n",
    "    ''' compatible with R scale() '''\n",
    "    if center:\n",
    "        df = df - df.mean()\n",
    "    if scale:\n",
    "        df = df / df.std()\n",
    "    return df"
   ]
  },
  {
   "cell_type": "code",
   "execution_count": 3,
   "metadata": {
    "lines_to_next_cell": 1
   },
   "outputs": [],
   "source": [
    "class PCA:\n",
    "    def __init__(self, df, npc=2, method='svd'):\n",
    "        self.df = df\n",
    "        self.npc = npc\n",
    "        self.method = method\n",
    "\n",
    "    def svd(self):\n",
    "        ''' SVD decomposite X to U*diag(S)*Wt '''\n",
    "        self.U, self.diagS, self.Wt = np.linalg.svd(self.df, full_matrices=False)\n",
    "\n",
    "        # singular values are already sorted\n",
    "        assert np.all(self.diagS[:-1] >= self.diagS[1:]) \n",
    "\n",
    "        ''' T = X*W = U*S '''\n",
    "        pcXW = np.dot(self.df, self.Wt.T[:,:self.npc])\n",
    "        pcUdS = self.U[:,:self.npc] * self.diagS[:self.npc]\n",
    "        # these two ways return same results\n",
    "        assert np.allclose(pcXW, pcUdS)\n",
    "        self.score = pcUdS\n",
    "\n",
    "    def eig(self):\n",
    "        # calculate eigenvalues(l) and eigenvectors(w) of the covariance matrix\n",
    "        C = np.cov(self.df.T)\n",
    "        self.l,self.w = np.linalg.eig(C)\n",
    "\n",
    "        # sort eigenvectors by eigenvalue in descending order\n",
    "        self.w = self.w[:,np.argsort(self.l)[::-1]]\n",
    "\n",
    "        ''' T = X*W '''\n",
    "        self.score = np.dot(self.df, self.w[:,:self.npc])\n",
    "\n",
    "    def pc(self):\n",
    "        if self.method == 'svd':\n",
    "            self.svd()\n",
    "        else:\n",
    "            self.eig()\n",
    "        self.score[:,1] = -self.score[:,1]\n",
    "        return self.score"
   ]
  },
  {
   "cell_type": "code",
   "execution_count": 4,
   "metadata": {
    "lines_to_next_cell": 1
   },
   "outputs": [],
   "source": [
    "def plot(df):\n",
    "    for name in df['target'].unique():\n",
    "        cond = df['target'] == name\n",
    "        plt.plot(df.loc[cond,'PC1'], df.loc[cond,'PC2'], 'o', label=name)\n",
    "    plt.grid(True)\n",
    "    plt.legend(framealpha=0.5)"
   ]
  },
  {
   "cell_type": "code",
   "execution_count": 6,
   "metadata": {},
   "outputs": [],
   "source": [
    "def main():\n",
    "    np.set_printoptions(precision=4, threshold=30)\n",
    "\n",
    "    # famous Fisher iris data\n",
    "    dataset = sklearn.datasets.load_iris()\n",
    "    df = pd.DataFrame(dataset['data'])\n",
    "    df.columns = dataset['feature_names']\n",
    "    df['target'] = dataset['target']\n",
    "\n",
    "    # use only numerical columns\n",
    "    values = scale(df.iloc[:,:4], center=True, scale=True)\n",
    "    print('DataFrame is a (%d x %d) matrix of iris.csv:\\n' % (values.shape[0], values.shape[1])) \n",
    "\n",
    "    plt.figure(figsize=(12,4))\n",
    "\n",
    "    plt.subplot(1,3,1)\n",
    "    plt.title('Singular value decomposition')\n",
    "    pca_svd = PCA(values, method='svd')\n",
    "    score = pd.DataFrame(pca_svd.pc(), columns=['PC1', 'PC2'])\n",
    "    score = pd.concat([df, score], axis=1)\n",
    "    plot(score)\n",
    "\n",
    "    plt.subplot(1,3,2)\n",
    "    plt.title('Eigenvalue decomposition')\n",
    "    pca_eig = PCA(values, method='eig')\n",
    "    score = pd.DataFrame(pca_eig.pc(), columns=['PC1', 'PC2'])\n",
    "    score = pd.concat([df, score], axis=1)\n",
    "    plot(score)\n",
    "\n",
    "    plt.subplot(1,3,3)\n",
    "    plt.title('Principal Component Analysis of scikit-learn')\n",
    "    pca_sklearn = sklearn.decomposition.PCA(n_components=2)\n",
    "    score = pca_sklearn.fit_transform(values)\n",
    "    score = pd.DataFrame(score, columns=['PC1', 'PC2'])\n",
    "    score = pd.concat([df, score], axis=1)\n",
    "    plot(score)\n",
    "\n",
    "    assert np.allclose(score[['PC1', 'PC2']], pca_svd.pc())\n",
    "\n",
    "    plt.tight_layout()\n",
    "    plt.savefig('figure/pca.png')\n",
    "\n",
    "    # assert two princople components based on SVD and EigenDecomposition\n",
    "    print('PCA(svd) == PCA(eig) is %s' % np.allclose(pca_svd.pc(), pca_eig.pc()))"
   ]
  },
  {
   "cell_type": "code",
   "execution_count": 7,
   "metadata": {},
   "outputs": [
    {
     "name": "stdout",
     "output_type": "stream",
     "text": [
      "DataFrame is a (150 x 4) matrix of iris.csv:\n",
      "\n",
      "PCA(svd) == PCA(eig) is True\n"
     ]
    },
    {
     "data": {
      "image/png": "[encoded data removed]",
      "text/plain": [
       "<Figure size 864x288 with 3 Axes>"
      ]
     },
     "metadata": {
      "needs_background": "light"
     },
     "output_type": "display_data"
    }
   ],
   "source": [
    "if __name__ == '__main__':\n",
    "    main()"
   ]
  },
  {
   "cell_type": "code",
   "execution_count": null,
   "metadata": {},
   "outputs": [],
   "source": []
  }
 ],
 "metadata": {
  "jupytext": {
   "cell_metadata_filter": "-all",
   "notebook_metadata_filter": "-all",
   "text_representation": {
    "extension": ".py",
    "format_name": "light"
   }
  },
  "kernelspec": {
   "display_name": "Python 3",
   "language": "python",
   "name": "python3"
  },
  "language_info": {
   "codemirror_mode": {
    "name": "ipython",
    "version": 3
   },
   "file_extension": ".py",
   "mimetype": "text/x-python",
   "name": "python",
   "nbconvert_exporter": "python",
   "pygments_lexer": "ipython3",
   "version": "3.7.4"
  }
 },
 "nbformat": 4,
 "nbformat_minor": 4
}
