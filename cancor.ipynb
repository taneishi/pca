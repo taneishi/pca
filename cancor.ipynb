{
 "cells": [
  {
   "cell_type": "code",
   "execution_count": 1,
   "metadata": {
    "lines_to_next_cell": 1
   },
   "outputs": [],
   "source": [
    "import pandas as pd\n",
    "import numpy as np\n",
    "import matplotlib.pyplot as plt\n",
    "import statsmodels.api as sm\n",
    "import sys"
   ]
  },
  {
   "cell_type": "code",
   "execution_count": 4,
   "metadata": {
    "lines_to_next_cell": 1
   },
   "outputs": [],
   "source": [
    "def cancor(x, y, xcenter=True, ycenter=True):\n",
    "    if x.shape[0] != y.shape[0]:\n",
    "        sys.exit('unequal number of rows in cancor')\n",
    "\n",
    "    if x.shape[0] == 0 or x.shape[1] == 0 or y.shape[1] == 0:\n",
    "        sys.exit('dimension 0 in x or y')\n",
    "\n",
    "    if xcenter:\n",
    "        xcenter = x.mean(axis=0)\n",
    "        x = x - xcenter\n",
    "    else:\n",
    "        xcenter = np.zeros(x.shape[1])\n",
    "    \n",
    "    if ycenter:\n",
    "        ycenter = y.mean(axis=0)\n",
    "        y = y - ycenter\n",
    "    else:\n",
    "        ycenter = np.zeros(y.shape[1])\n",
    "\n",
    "    q1,r1 = np.linalg.qr(x)\n",
    "    q2,r2 = np.linalg.qr(y)\n",
    "    # q1, q2 must be unitary\n",
    "    assert np.allclose(np.dot(q1.T, q1), np.eye(q1.shape[1]))\n",
    "    assert np.allclose(np.dot(q2.T, q2), np.eye(q2.shape[1]))\n",
    "\n",
    "    # rank of x (= qr)\n",
    "    p1 = r1.shape[1]\n",
    "    if p1 == 0:\n",
    "        sys.exit('x has rank 0')\n",
    "\n",
    "    p2 = r2.shape[1]\n",
    "    if p2 == 0:\n",
    "        sys.exit('y has rank 0')\n",
    "\n",
    "    mat = np.dot(q1.T, q2)[:p1,:p2]\n",
    "    U,S,V = np.linalg.svd(mat)\n",
    "\n",
    "    u = np.linalg.solve(r1[:p1], U)\n",
    "    v = np.linalg.solve(r2[:p2], V.T)\n",
    "\n",
    "    return {\n",
    "            'cor': S,\n",
    "            'xcoef': u, \n",
    "            'ycoef': v, \n",
    "            'xcenter': xcenter, \n",
    "            'ycenter': ycenter,\n",
    "            }"
   ]
  },
  {
   "cell_type": "code",
   "execution_count": 11,
   "metadata": {
    "lines_to_next_cell": 1
   },
   "outputs": [],
   "source": [
    "def main():\n",
    "    df = sm.datasets.get_rdataset('LifeCycleSavings').data\n",
    "    pop = df[['pop15','pop75']]\n",
    "    oec = df[['sr','dpi','ddpi']]\n",
    "\n",
    "    np.set_printoptions(precision=4)\n",
    "    result = cancor(pop, oec)\n",
    "    for k,v in result.items():\n",
    "        print(k,v)\n",
    "\n",
    "    u = np.dot(pop, result['xcoef'])\n",
    "    v = np.dot(oec, result['ycoef'])\n",
    "\n",
    "    plt.plot(u[:,0], v[:,0], 'o')\n",
    "    plt.title('Canonical correlation analysis')\n",
    "    plt.xlabel('$u_0$')\n",
    "    plt.ylabel('$v_0$')\n",
    "    plt.grid(True)\n",
    "    plt.tight_layout()\n",
    "    plt.show()"
   ]
  },
  {
   "cell_type": "code",
   "execution_count": 12,
   "metadata": {},
   "outputs": [
    {
     "name": "stdout",
     "output_type": "stream",
     "text": [
      "cor [0.8248 0.3653]\n",
      "xcoef [[-0.0091 -0.0362]\n",
      " [ 0.0486 -0.2603]]\n",
      "ycoef [[ 8.4710e-03  3.3379e-02 -5.1571e-03]\n",
      " [ 1.3074e-04 -7.5882e-05  4.5437e-06]\n",
      " [ 4.1706e-03 -1.2268e-02  5.1883e-02]]\n",
      "xcenter pop15    35.0896\n",
      "pop75     2.2930\n",
      "dtype: float64\n",
      "ycenter sr         9.6710\n",
      "dpi     1106.7584\n",
      "ddpi       3.7576\n",
      "dtype: float64\n"
     ]
    },
    {
     "data": {
      "image/png": "[encoded data removed]",
      "text/plain": [
       "<Figure size 432x288 with 1 Axes>"
      ]
     },
     "metadata": {
      "needs_background": "light"
     },
     "output_type": "display_data"
    }
   ],
   "source": [
    "if __name__ == '__main__':\n",
    "    main()"
   ]
  },
  {
   "cell_type": "code",
   "execution_count": null,
   "metadata": {},
   "outputs": [],
   "source": []
  }
 ],
 "metadata": {
  "jupytext": {
   "cell_metadata_filter": "-all",
   "notebook_metadata_filter": "-all",
   "text_representation": {
    "extension": ".py",
    "format_name": "light"
   }
  },
  "kernelspec": {
   "display_name": "Python 3",
   "language": "python",
   "name": "python3"
  },
  "language_info": {
   "codemirror_mode": {
    "name": "ipython",
    "version": 3
   },
   "file_extension": ".py",
   "mimetype": "text/x-python",
   "name": "python",
   "nbconvert_exporter": "python",
   "pygments_lexer": "ipython3",
   "version": "3.7.4"
  }
 },
 "nbformat": 4,
 "nbformat_minor": 4
}
